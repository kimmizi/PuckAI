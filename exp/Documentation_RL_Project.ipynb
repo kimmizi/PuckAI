{
 "cells": [
  {
   "metadata": {},
   "cell_type": "markdown",
   "source": "# Reinforcement Learning Group Project",
   "id": "58d1607485a2af0d"
  },
  {
   "metadata": {},
   "cell_type": "markdown",
   "source": "Author: Kim Isabella Zierahn, 6635183",
   "id": "ee30fab3fcfd7c75"
  },
  {
   "metadata": {},
   "cell_type": "markdown",
   "source": [
    "\n",
    "This notebook documents my contributions and code to the group project. It contains checkpoints, thoughts, code snippets, where I tried out things, and plots.\n"
   ],
   "id": "9b72bf2ed5012dad"
  },
  {
   "metadata": {},
   "cell_type": "markdown",
   "source": "",
   "id": "6e984c69258f4f29"
  },
  {
   "metadata": {},
   "cell_type": "markdown",
   "source": "## Checkpoint 1: Get your algorithms up and running",
   "id": "6cd76378ed4d87ef"
  },
  {
   "metadata": {},
   "cell_type": "markdown",
   "source": [
    "I am comparing three PPO models that get increasingly optimized. The performance is tested on simple environments to determine the best working algorithm out of the three. For continous actions, I am using the Pendulum and HalfCheetah from the OpenAI Gym.\n",
    "\n",
    "I am comparing five PPO models that get increasingly optimized:\n",
    "\n",
    "| Model       | Training phases   | Surrogate objective                                                              | Policy parameterization |\n",
    "|-------------|-------------------|----------------------------------------------------------------------------------|------------------------|\n",
    "| Vanilla PPO | Policy phase only | Clipped surrogate objective                                                      | Normal distribution|\n",
    "| PPG         | Policy phase + auxiliary phase | Clipped surrogate objective + behavioral cloning loss + arbitrary auxiliary loss | Normal distribution|\n",
    "| PPG KL      | Policy phase + auxiliary phase | Reversed KL divergence + behavioral cloning loss + arbitrary auxiliary loss | Normal distribution|\n",
    "| PPG Beta    | Policy phase + auxiliary phase | Clipped surrogate objective + behavioral cloning loss + arbitrary auxiliary loss | Beta distribution|\n",
    "| PPG KL Beta | Policy phase + auxiliary phase | Reversed KL divergence + behavioral cloning loss + arbitrary auxiliary loss | Beta distribution|\n"
   ],
   "id": "24828992ace0f6e3"
  },
  {
   "metadata": {},
   "cell_type": "markdown",
   "source": "#### Vanilla PPO",
   "id": "924909897779dcbc"
  },
  {
   "metadata": {},
   "cell_type": "markdown",
   "source": [
    "This is the standard unmodified **vanilla PPO** algorithm that I take as a base comparison.\n",
    "\n",
    "**Source:** The basis of this PPO base algorithm comes from: University of Tübingen, Autonomous Learning, Reinforcement Learning Lecture 8: \"PPO_08_solution.py\""
   ],
   "id": "a3c7437b00414de8"
  },
  {
   "metadata": {},
   "cell_type": "markdown",
   "source": "#### PPG",
   "id": "c0d33c9e7139dfd6"
  },
  {
   "metadata": {},
   "cell_type": "markdown",
   "source": "This is a **PPG** algorithm, a modified version of PPO. It consists of two training phases: a policy phase and an additional **periodic auxiliary phase**. During the policy phase, we are training the agent with vanilla PPO, optimizing the clipped surrogate objective. During the auxiliary phase, we distill features from the value function into the policy network",
   "id": "9f629737bdaee45e"
  },
  {
   "metadata": {},
   "cell_type": "markdown",
   "source": "#### PPG with KL divergence",
   "id": "a036aadb7da5851c"
  },
  {
   "metadata": {},
   "cell_type": "markdown",
   "source": [
    "This is a PPG algorithm using a **reversed KL divergence** for regularization instead of a clipped objective. It uses a soft constraint on the reversed KL distance between\n",
    "the initial and the updated policy."
   ],
   "id": "be731860cf62e138"
  },
  {
   "metadata": {},
   "cell_type": "markdown",
   "source": "#### PPG with Beta distribution",
   "id": "2aef86c989a1769e"
  },
  {
   "metadata": {},
   "cell_type": "markdown",
   "source": "This is a PPG algorithm with a **Beta distribution** for policy parameterization instead of a Normal distribution. It is an optimized version of PPG, where we are using a Beta distribution for the action space and initializing the weights of the policy network with the weights of the value network.",
   "id": "2bbb6880dd1c47f5"
  },
  {
   "metadata": {},
   "cell_type": "markdown",
   "source": "#### PPG with KL divergence and Beta distribution",
   "id": "fafcf18345dcf89d"
  },
  {
   "metadata": {},
   "cell_type": "markdown",
   "source": "This is a PPG algorithm using a **reversed KL divergence** for the loss and a **Beta distribution** for policy parameterization.",
   "id": "5b9b3aa8d1b6562a"
  },
  {
   "metadata": {
    "ExecuteTime": {
     "end_time": "2025-02-25T14:22:06.993165Z",
     "start_time": "2025-02-25T14:22:05.445982Z"
    }
   },
   "cell_type": "code",
   "source": [
    "import gymnasium as gym\n",
    "import numpy as np\n",
    "import random\n",
    "import matplotlib.pyplot as plt\n",
    "import hockey.hockey_env as h_env\n",
    "from hockey.hockey_env import Mode\n",
    "from sympy.printing.pretty.pretty_symbology import line_width\n",
    "from tueplots import bundles"
   ],
   "id": "4dc530cd2ab487c7",
   "outputs": [],
   "execution_count": 1
  },
  {
   "metadata": {},
   "cell_type": "markdown",
   "source": "### GymEnv: Pendulum",
   "id": "5df15a296c34f014"
  },
  {
   "metadata": {
    "ExecuteTime": {
     "end_time": "2025-02-24T16:19:30.068883Z",
     "start_time": "2025-02-24T16:19:30.055230Z"
    }
   },
   "cell_type": "code",
   "source": [
    "env_pend = gym.make(\"Pendulum-v1\")\n",
    "state_dim = env_pend.observation_space.shape[0]\n",
    "action_dim = env_pend.action_space.shape[0]"
   ],
   "id": "8b7e3f539e309fa1",
   "outputs": [],
   "execution_count": 3
  },
  {
   "metadata": {},
   "cell_type": "markdown",
   "source": "#### Comparison of Training Behavior",
   "id": "deb564157133275"
  },
  {
   "metadata": {},
   "cell_type": "markdown",
   "source": "All five models were trained in the **Pendulum** environment for 5000 episodes on the cluster. In the following, I am comparing the training behavior of the five models.",
   "id": "6bdd464496da02ce"
  },
  {
   "metadata": {
    "ExecuteTime": {
     "end_time": "2025-02-25T14:51:10.465607Z",
     "start_time": "2025-02-25T14:51:10.454829Z"
    }
   },
   "cell_type": "code",
   "source": [
    "# Load rewards\n",
    "rewards_ppo_pendulum = np.load(\"../dat/pendulum/rewards_ppo_pendulum.npy\")\n",
    "rewards_ppg_pendulum = np.load(\"../dat/pendulum/rewards_ppg_pendulum.npy\")\n",
    "rewards_ppg_kl_pendulum = np.load(\"../dat/pendulum/rewards_ppg_kl_pendulum.npy\")\n",
    "rewards_ppg_beta_pendulum = np.load(\"../dat/pendulum/rewards_ppg_beta_pendulum.npy\")\n",
    "rewards_ppg_kl_beta_pendulum = np.load(\"../dat/pendulum/rewards_ppg_kl_beta_pendulum.npy\")"
   ],
   "id": "f0d26afca6168621",
   "outputs": [],
   "execution_count": 13
  },
  {
   "metadata": {
    "ExecuteTime": {
     "end_time": "2025-02-25T15:43:13.273808Z",
     "start_time": "2025-02-25T15:43:10.983681Z"
    }
   },
   "cell_type": "code",
   "source": [
    "# Plot results\n",
    "def moving_average(data, window_size):\n",
    "    \"\"\"Compute the moving average of a list.\"\"\"\n",
    "    return np.convolve(data, np.ones(window_size) / window_size, mode = \"valid\")\n",
    "\n",
    "wind_size = 100\n",
    "\n",
    "plt.rcParams.update(bundles.icml2022(column = \"full\", nrows = 1, ncols = 1, usetex = False))\n",
    "fig, ax = plt.subplots(figsize = (3, 2))\n",
    "plt.plot(moving_average(rewards_ppo_pendulum, wind_size), label = \"PPO\", linewidth = 0.9, color = \"dodgerblue\")\n",
    "plt.plot(moving_average(rewards_ppg_pendulum, wind_size), label = \"PPG\", linewidth = 0.9, color = \"orange\")\n",
    "plt.plot(moving_average(rewards_ppg_kl_pendulum, wind_size), label = \"PPG KL\", linewidth = 0.9, color = \"darkmagenta\")\n",
    "plt.plot(moving_average(rewards_ppg_beta_pendulum, wind_size), label = \"PPG Beta\", linewidth = 0.9, color = \"forestgreen\")\n",
    "plt.plot(moving_average(rewards_ppg_kl_beta_pendulum, wind_size), label = \"PPG KL Beta\", linewidth = 0.9, color = \"crimson\")\n",
    "plt.legend()\n",
    "plt.title(\"Pendulum\")\n",
    "plt.xlabel(\"Episodes\")\n",
    "plt.ylabel(\"Rewards\")\n",
    "plt.show()\n",
    "\n",
    "# save figure as png\n",
    "fig.savefig(\"../doc/fig/comparison_pendulum.png\", dpi = 1000, bbox_inches = \"tight\", pad_inches = 0.1, transparent = True)"
   ],
   "id": "234efbbc51279c7f",
   "outputs": [
    {
     "data": {
      "text/plain": [
       "<Figure size 300x200 with 1 Axes>"
      ],
      "image/png": "[encoded data removed]"
     },
     "metadata": {},
     "output_type": "display_data"
    }
   ],
   "execution_count": 18
  },
  {
   "metadata": {},
   "cell_type": "markdown",
   "source": "### GymEnv: HalfCheetah",
   "id": "9d57aeb096332b91"
  },
  {
   "metadata": {
    "ExecuteTime": {
     "end_time": "2025-02-25T08:12:23.636143Z",
     "start_time": "2025-02-25T08:12:23.290102Z"
    }
   },
   "cell_type": "code",
   "source": [
    "env_cheetah = gym.make(\"HalfCheetah-v5\")\n",
    "state_dim = env_cheetah.observation_space.shape[0]\n",
    "action_dim = env_cheetah.action_space.shape[0]"
   ],
   "id": "31fb593540373c65",
   "outputs": [],
   "execution_count": 3
  },
  {
   "metadata": {},
   "cell_type": "markdown",
   "source": "#### Comparison of Training Behavior",
   "id": "32f29271b28fbac2"
  },
  {
   "metadata": {},
   "cell_type": "markdown",
   "source": "All five models were trained in the **HalfCheetah** environment for 5000 episodes on the cluster. In the following, I am comparing the training behavior of the five models.",
   "id": "8dee0ebb7645039f"
  },
  {
   "metadata": {
    "ExecuteTime": {
     "end_time": "2025-02-25T08:12:27.559823Z",
     "start_time": "2025-02-25T08:12:27.549733Z"
    }
   },
   "cell_type": "code",
   "source": [
    "# Load rewards\n",
    "rewards_ppo_cheetah = np.load(\"../dat/cheetah/rewards_ppo_halfcheetah.npy\")\n",
    "rewards_ppg_cheetah = np.load(\"../dat/cheetah/rewards_ppg_halfcheetah.npy\")\n",
    "rewards_ppg_kl_cheetah = np.load(\"../dat/cheetah/rewards_ppg_kl_halfcheetah.npy\")\n",
    "rewards_ppg_beta_cheetah = np.load(\"../dat/cheetah/rewards_ppg_beta_halfcheetah.npy\")\n",
    "rewards_ppg_kl_beta_cheetah = np.load(\"../dat/cheetah/rewards_ppg_kl_beta_halfcheetah.npy\")"
   ],
   "id": "1a0d9cf7e4ebf7a0",
   "outputs": [],
   "execution_count": 5
  },
  {
   "metadata": {
    "ExecuteTime": {
     "end_time": "2025-02-25T12:22:40.598499Z",
     "start_time": "2025-02-25T12:22:39.318172Z"
    }
   },
   "cell_type": "code",
   "source": [
    "def moving_average(data, window_size):\n",
    "    \"\"\"Compute the moving average of a list.\"\"\"\n",
    "    return np.convolve(data, np.ones(window_size) / window_size, mode = \"valid\")\n",
    "\n",
    "wind_size = 100\n",
    "\n",
    "plt.rcParams.update(bundles.icml2022(column = \"full\", nrows = 1, ncols = 1, usetex = False))\n",
    "fig, ax = plt.subplots(figsize = (3, 2))\n",
    "plt.plot(moving_average(rewards_ppo_cheetah, wind_size), label = \"PPO\", linewidth = 0.9, color = \"dodgerblue\")\n",
    "plt.plot(moving_average(rewards_ppg_cheetah, wind_size), label = \"PPG\", linewidth = 0.9, color = \"orange\")\n",
    "plt.plot(moving_average(rewards_ppg_kl_cheetah, wind_size), label = \"PPG KL\", linewidth = 0.9, color = \"darkmagenta\")\n",
    "plt.plot(moving_average(rewards_ppg_beta_cheetah, wind_size), label = \"PPG Beta\", linewidth = 0.9, color = \"forestgreen\")\n",
    "plt.plot(moving_average(rewards_ppg_kl_beta_cheetah, wind_size), label = \"PPG KL Beta\", linewidth = 0.9, color = \"crimson\")\n",
    "plt.legend()\n",
    "plt.title(\"HalfCheetah\")\n",
    "plt.xlabel(\"Episodes\")\n",
    "plt.ylabel(\"Rewards\")\n",
    "plt.show()\n",
    "\n",
    "# save figure as png\n",
    "fig.savefig(\"../doc/fig/comparison_cheetah_wppo.png\", dpi = 1000, bbox_inches = \"tight\", pad_inches = 0.1, transparent = True)"
   ],
   "id": "cf538c295a5017f7",
   "outputs": [
    {
     "data": {
      "text/plain": [
       "<Figure size 300x200 with 1 Axes>"
      ],
      "image/png": "[encoded data removed]"
     },
     "metadata": {},
     "output_type": "display_data"
    }
   ],
   "execution_count": 66
  },
  {
   "metadata": {},
   "cell_type": "markdown",
   "source": "Based on these performances, we choose the **PPG with KL divergence** algorithm for the hockey environment as the final model.",
   "id": "8682381c465ffeb5"
  },
  {
   "metadata": {},
   "cell_type": "markdown",
   "source": "",
   "id": "44773c42035e03e1"
  },
  {
   "metadata": {},
   "cell_type": "markdown",
   "source": "## Checkpoint 2: Hockey – learning to handle the puck",
   "id": "b31889cfb5e0ce00"
  },
  {
   "metadata": {},
   "cell_type": "markdown",
   "source": "In this part, before training my final agent on the cluster, I am trying to see a sensible training behavior, i.e. the reward should increase over time and I am checking the proportion of games I won. I am using the basic opponent for this purpose.",
   "id": "d7b6e51655b60fca"
  },
  {
   "metadata": {
    "ExecuteTime": {
     "end_time": "2025-02-25T09:26:15.763367Z",
     "start_time": "2025-02-25T09:26:15.755613Z"
    }
   },
   "cell_type": "code",
   "source": [
    "env_hockey = h_env.HockeyEnv_BasicOpponent(mode = Mode.NORMAL, weak_opponent = False)\n",
    "state_dim = env_hockey.observation_space.shape[0]\n",
    "action_dim = env_hockey.action_space.shape[0]"
   ],
   "id": "5305361f9581623",
   "outputs": [],
   "execution_count": 35
  },
  {
   "metadata": {
    "ExecuteTime": {
     "end_time": "2025-02-25T14:48:40.127069Z",
     "start_time": "2025-02-25T14:48:40.118596Z"
    }
   },
   "cell_type": "code",
   "source": [
    "# Load rewards\n",
    "rewards_ppo_hockey = np.load(\"../dat/hockey_2/rewards_ppo.npy\")\n",
    "rewards_ppg_hockey = np.load(\"../dat/hockey_2/rewards_ppg.npy\")\n",
    "# rewards_ppg_hockey = np.load(\"../dat/hockey_2/rewards_ppg_gae.npy\")\n",
    "rewards_ppg_kl_hockey = np.load(\"../dat/hockey_2/rewards_ppg_kl.npy\")\n",
    "rewards_ppg_beta_hockey = np.load(\"../dat/hockey_2/rewards_ppg_beta.npy\")\n",
    "rewards_ppg_kl_beta_hockey = np.load(\"../dat/hockey_2/rewards_ppg_kl_beta.npy\")"
   ],
   "id": "1f2d34ad69101aba",
   "outputs": [],
   "execution_count": 8
  },
  {
   "metadata": {
    "ExecuteTime": {
     "end_time": "2025-02-25T14:20:33.258835Z",
     "start_time": "2025-02-25T14:20:33.250091Z"
    }
   },
   "cell_type": "code",
   "source": [
    "# Load information about winner\n",
    "info_ppo_hockey = np.load(\"../dat/hockey/info_ppo.npy\")\n",
    "info_ppg_hockey = np.load(\"../dat/hockey/info_ppg_gae.npy\")\n",
    "info_ppg_kl_hockey = np.load(\"../dat/hockey/info_ppg_kl.npy\")\n",
    "info_ppg_beta_hockey = np.load(\"../dat/hockey/info_ppg_beta.npy\")\n",
    "info_ppg_kl_beta_hockey = np.load(\"../dat/hockey/info_ppg_kl_beta.npy\")"
   ],
   "id": "c4bea9e51e37def0",
   "outputs": [],
   "execution_count": 81
  },
  {
   "metadata": {
    "ExecuteTime": {
     "end_time": "2025-02-25T14:51:54.264262Z",
     "start_time": "2025-02-25T14:51:53.127119Z"
    }
   },
   "cell_type": "code",
   "source": [
    "# Plot results\n",
    "def moving_average(data, window_size):\n",
    "    \"\"\"Compute the moving average of a list.\"\"\"\n",
    "    return np.convolve(data, np.ones(window_size) / window_size, mode = \"valid\")\n",
    "\n",
    "wind_size = 500\n",
    "\n",
    "plt.rcParams.update(bundles.icml2022(column = \"full\", nrows = 1, ncols = 1, usetex = False))\n",
    "fig, ax = plt.subplots(figsize = (3, 2))\n",
    "plt.plot(moving_average(rewards_ppo_hockey, wind_size), label = \"PPO\", linewidth = 0.7, color = \"dodgerblue\")\n",
    "plt.plot(moving_average(rewards_ppg_hockey, wind_size), label = \"PPG\", linewidth = 0.7, color = \"orange\")\n",
    "plt.plot(moving_average(rewards_ppg_kl_hockey, wind_size), label = \"PPG KL\", linewidth = 0.7, color = \"darkmagenta\")\n",
    "plt.plot(moving_average(rewards_ppg_beta_hockey, wind_size), label = \"PPG Beta\", linewidth = 0.7, color = \"forestgreen\")\n",
    "plt.plot(moving_average(rewards_ppg_kl_beta_hockey, wind_size), label = \"PPG KL Beta\", linewidth = 0.7, color = \"crimson\")\n",
    "plt.legend()\n",
    "plt.xlabel(\"Episode\")\n",
    "plt.ylabel(\"Reward\")\n",
    "plt.title(\"Hockey Basic Opponent (Weak)\")\n",
    "plt.legend()\n",
    "# plt.grid()\n",
    "plt.show()\n",
    "\n",
    "# save figure as png\n",
    "fig.savefig(\"../doc/fig/comparison_hockey.png\", dpi = 1000, bbox_inches = \"tight\", pad_inches = 0.1, transparent = True)"
   ],
   "id": "2651295cda7da168",
   "outputs": [
    {
     "data": {
      "text/plain": [
       "<Figure size 300x200 with 1 Axes>"
      ],
      "image/png": "[encoded data removed]"
     },
     "metadata": {},
     "output_type": "display_data"
    }
   ],
   "execution_count": 17
  },
  {
   "metadata": {
    "ExecuteTime": {
     "end_time": "2025-02-25T14:50:34.319045Z",
     "start_time": "2025-02-25T14:50:34.312190Z"
    }
   },
   "cell_type": "code",
   "source": [
    "# calc average reward\n",
    "def average_reward(rewards):\n",
    "    return np.round(np.mean(rewards))\n",
    "\n",
    "print(\"PPO: \", average_reward(rewards_ppo_hockey))\n",
    "print(\"PPG: \", average_reward(rewards_ppg_hockey))\n",
    "print(\"PPG KL: \", average_reward(rewards_ppg_kl_hockey))\n",
    "print(\"PPG Beta: \", average_reward(rewards_ppg_beta_hockey))\n",
    "print(\"PPG KL Beta: \", average_reward(rewards_ppg_kl_beta_hockey))"
   ],
   "id": "38543cdb98c9f28f",
   "outputs": [
    {
     "name": "stdout",
     "output_type": "stream",
     "text": [
      "PPO:  -10.0\n",
      "PPG:  -9.0\n",
      "PPG KL:  -9.0\n",
      "PPG Beta:  -12.0\n",
      "PPG KL Beta:  -12.0\n"
     ]
    }
   ],
   "execution_count": 11
  },
  {
   "metadata": {
    "ExecuteTime": {
     "end_time": "2025-02-25T12:23:30.035403Z",
     "start_time": "2025-02-25T12:23:29.483907Z"
    }
   },
   "cell_type": "code",
   "source": [
    "# Plot win rate for every agent\n",
    "# calculate the number of 0,-1, 1 for each episode and divide by the number of episodes\n",
    "num_episodes = len(info_ppo_hockey)\n",
    "\n",
    "num_wins_ppo = np.sum(np.array(info_ppo_hockey) == 1)\n",
    "num_wins_ppg_gae = np.sum(np.array(info_ppg_hockey) == 1)\n",
    "num_wins_ppg_kl = np.sum(np.array(info_ppg_kl_hockey) == 1)\n",
    "num_wins_ppg_beta = np.sum(np.array(info_ppg_beta_hockey) == 1)\n",
    "num_wins_ppg_kl_beta = np.sum(np.array(info_ppg_kl_beta_hockey) == 1)\n",
    "\n",
    "ratio_wins_ppo = round(num_wins_ppo / num_episodes, 3)\n",
    "ratio_wins_ppg = round(num_wins_ppg_gae / num_episodes, 3)\n",
    "ratio_wins_ppg_kl = round(num_wins_ppg_kl / num_episodes, 3)\n",
    "ratio_wins_ppg_beta = round(num_wins_ppg_beta / num_episodes, 3)\n",
    "ratio_wins_ppg_kl_beta = round(num_wins_ppg_kl_beta / num_episodes, 3)\n",
    "\n",
    "print(f\"Win rate PPO: {ratio_wins_ppo}, \\nWin rate PPG: {ratio_wins_ppg}, \\nWin rate PPG KL: {ratio_wins_ppg_kl}, \\nWin rate PPG Beta: {ratio_wins_ppg_beta}, \\nWin rate PPG KL Beta: {ratio_wins_ppg_kl_beta}\")\n",
    "\n",
    "info_array_ppo = np.array(info_ppo_hockey)\n",
    "info_array_ppg = np.array(info_ppg_hockey)\n",
    "info_array_ppg_kl = np.array(info_ppg_kl_hockey)\n",
    "info_array_ppg_beta = np.array(info_ppg_beta_hockey)\n",
    "info_array_ppg_kl_beta = np.array(info_ppg_kl_beta_hockey)\n",
    "\n",
    "games_played = np.arange(1, len(info_ppo_hockey) + 1)\n",
    "\n",
    "wins_ppo = np.cumsum(info_array_ppo == 1)\n",
    "wins_ppg = np.cumsum(info_array_ppg == 1)\n",
    "wins_ppg_kl = np.cumsum(info_array_ppg_kl == 1)\n",
    "wins_ppg_beta = np.cumsum(info_array_ppg_beta == 1)\n",
    "wins_ppg_kl_beta = np.cumsum(info_array_ppg_kl_beta == 1)\n",
    "\n",
    "win_ratio_ppo = wins_ppo / games_played\n",
    "win_ratio_ppg = wins_ppg / games_played\n",
    "win_ratio_ppg_kl = wins_ppg_kl / games_played\n",
    "win_ratio_ppg_beta = wins_ppg_beta / games_played\n",
    "win_ratio_ppg_kl_beta = wins_ppg_kl_beta / games_played\n",
    "\n",
    "plt.rcParams.update(bundles.icml2022(column = \"full\", nrows = 1, ncols = 1, usetex = False))\n",
    "fig, ax = plt.subplots(figsize = (3, 2))\n",
    "plt.plot(games_played, win_ratio_ppo, marker = ',', linestyle = '-', label = \"PPO\", linewidth = 0.9, color = \"dodgerblue\")\n",
    "plt.plot(games_played, win_ratio_ppg, marker = ',', linestyle = '-', label = \"PPG\", linewidth = 0.9, color = \"orange\")\n",
    "plt.plot(games_played, win_ratio_ppg_kl, marker = ',', linestyle = '-', label = \"PPG KL\", linewidth = 0.9, color = \"darkmagenta\")\n",
    "plt.plot(games_played, win_ratio_ppg_beta, marker = ',', linestyle = '-', label = \"PPG Beta\", linewidth = 0.9, color = \"forestgreen\")\n",
    "plt.plot(games_played, win_ratio_ppg_kl_beta, marker = ',', linestyle = '-', label = \"PPG KL Beta\", linewidth = 0.9, color = \"crimson\")\n",
    "plt.axhline(y = ratio_wins_ppo, linestyle = '--', linewidth = 0.9, color = \"dodgerblue\", alpha = 0.5)\n",
    "plt.axhline(y = ratio_wins_ppg, linestyle = '--', linewidth = 0.9, color = \"orange\", alpha = 0.5)\n",
    "plt.axhline(y = ratio_wins_ppg_kl, linestyle = '--', linewidth = 0.9, color = \"darkmagenta\", alpha = 0.5)\n",
    "plt.axhline(y = ratio_wins_ppg_beta, linestyle = '--', linewidth = 0.9, color = \"forestgreen\", alpha = 0.5)\n",
    "plt.axhline(y = ratio_wins_ppg_kl_beta, linestyle = '--', linewidth = 0.9, color = \"crimson\", alpha = 0.5)\n",
    "plt.xlabel(\"Games Played\")\n",
    "plt.ylabel(\"Winning Proportion\")\n",
    "plt.title(\"Relative Proportion of Wins Over Time\")\n",
    "plt.legend()\n",
    "# plt.grid(True)\n",
    "plt.show()"
   ],
   "id": "e65b3deaa99cc24e",
   "outputs": [
    {
     "name": "stdout",
     "output_type": "stream",
     "text": [
      "Win rate PPO: 0.114, \n",
      "Win rate PPG: 0.123, \n",
      "Win rate PPG KL: 0.081, \n",
      "Win rate PPG Beta: 0.049, \n",
      "Win rate PPG KL Beta: 0.052\n"
     ]
    },
    {
     "data": {
      "text/plain": [
       "<Figure size 300x200 with 1 Axes>"
      ],
      "image/png": "[encoded data removed]"
     },
     "metadata": {},
     "output_type": "display_data"
    }
   ],
   "execution_count": 70
  },
  {
   "metadata": {},
   "cell_type": "markdown",
   "source": "",
   "id": "bf5b03353e7567be"
  },
  {
   "metadata": {},
   "cell_type": "markdown",
   "source": "## Checkpoint 3: Play in normal mode against the basic opponent",
   "id": "80642269dd89cb17"
  },
  {
   "metadata": {},
   "cell_type": "markdown",
   "source": "The final model was trained for 20000 episodes on the cluster with a random choice of the weak and strong opponent.",
   "id": "dbf9ec90e2ff650f"
  },
  {
   "metadata": {
    "ExecuteTime": {
     "end_time": "2025-02-25T10:40:13.550356Z",
     "start_time": "2025-02-25T10:40:13.543087Z"
    }
   },
   "cell_type": "code",
   "source": [
    "rewards_ppg_kl = np.load(\"../dat/ppg_kl/rewards_ppg_kl.npy\")\n",
    "info_ppg_kl = np.load(\"../dat/ppg_kl/info_ppg_kl.npy\")"
   ],
   "id": "5ef33c9ab48b27e3",
   "outputs": [],
   "execution_count": 53
  },
  {
   "metadata": {
    "ExecuteTime": {
     "end_time": "2025-02-25T10:40:15.856263Z",
     "start_time": "2025-02-25T10:40:14.457877Z"
    }
   },
   "cell_type": "code",
   "source": [
    "# Plot results\n",
    "def moving_average(data, window_size):\n",
    "    \"\"\"Compute the moving average of a list.\"\"\"\n",
    "    return np.convolve(data, np.ones(window_size) / window_size, mode = \"valid\")\n",
    "\n",
    "wind_size = 5000\n",
    "\n",
    "plt.rcParams.update(bundles.icml2022(column = \"full\", nrows = 1, ncols = 1, usetex = False))\n",
    "fig, ax = plt.subplots(figsize = (3, 2))\n",
    "plt.plot(moving_average(rewards_ppg_kl, wind_size), linewidth = 0.7, label = \"PPG KL\", color = \"darkmagenta\")\n",
    "plt.legend()\n",
    "plt.xlabel(\"Episode\")\n",
    "plt.ylabel(\"Reward\")\n",
    "plt.title(\"Hockey Env Training\")\n",
    "plt.legend()\n",
    "# plt.grid()\n",
    "plt.show()\n",
    "\n",
    "# save figure as png\n",
    "fig.savefig(\"../doc/fig/rewards_final_model.png\", dpi = 1000, bbox_inches = \"tight\", pad_inches = 0.1, transparent = True)"
   ],
   "id": "32b8506bbc0aaabb",
   "outputs": [
    {
     "data": {
      "text/plain": [
       "<Figure size 300x200 with 1 Axes>"
      ],
      "image/png": "[encoded data removed]"
     },
     "metadata": {},
     "output_type": "display_data"
    }
   ],
   "execution_count": 54
  },
  {
   "metadata": {},
   "cell_type": "markdown",
   "source": "",
   "id": "51e5e7de5b9aa037"
  },
  {
   "metadata": {},
   "cell_type": "markdown",
   "source": "## Evaluation",
   "id": "3bdefac3a2cf5e32"
  },
  {
   "metadata": {},
   "cell_type": "markdown",
   "source": "Testing the final agent on the hockey environment. We are paying 500 games against the weak and strong basic opponentseparately.",
   "id": "1326ae0f64c8a616"
  },
  {
   "metadata": {
    "ExecuteTime": {
     "end_time": "2025-02-25T08:56:51.478912Z",
     "start_time": "2025-02-25T08:56:51.471716Z"
    }
   },
   "cell_type": "code",
   "source": [
    "def test_agent(number_games, weak_mode, agent):\n",
    "    winner_list = np.zeros(number_games)\n",
    "    rewards = 0\n",
    "    env = h_env.HockeyEnv(mode = Mode.NORMAL)\n",
    "    memory = None\n",
    "\n",
    "    for i in range(number_games):\n",
    "\n",
    "        state, _ = env.reset()\n",
    "        state = state.flatten()\n",
    "        player2 = h_env.BasicOpponent(weak = weak_mode)\n",
    "        obs_agent2 = env.obs_agent_two()\n",
    "\n",
    "        for t in range(500):\n",
    "\n",
    "            action = agent.policy_old.act(state, memory)\n",
    "\n",
    "            action_opp = player2.act(obs_agent2)\n",
    "\n",
    "            next_state, reward, done, _, info = env.step(np.hstack([action, action_opp]))\n",
    "            next_state = next_state.flatten()\n",
    "\n",
    "            state = next_state\n",
    "\n",
    "            obs_agent2 = env.obs_agent_two()\n",
    "\n",
    "            rewards += reward\n",
    "            if done:\n",
    "                winner_list[i] = info[\"winner\"]\n",
    "                break\n",
    "\n",
    "    print(\"Winning rate: \", np.round(np.sum(winner_list == 1) / number_games, 3))\n",
    "    print(\"Draws rate: \", np.round(np.sum(winner_list == 0) / number_games, 3))\n",
    "    print(\"Losing rate: \", np.round(np.sum(winner_list == -1) / number_games, 3))\n",
    "    print(\"Avg. reward: \", np.round(rewards / number_games))\n",
    "    return winner_list"
   ],
   "id": "8e60b81aca23c972",
   "outputs": [],
   "execution_count": 20
  },
  {
   "metadata": {
    "ExecuteTime": {
     "end_time": "2025-02-25T11:35:49.244288Z",
     "start_time": "2025-02-25T11:35:49.173778Z"
    }
   },
   "cell_type": "code",
   "source": [
    "# load checkpoint\n",
    "from src.PPG_KL import PPO\n",
    "ppg_KL = PPO(\n",
    "    18,\n",
    "    4,\n",
    "    n_latent_var_actor = 128,\n",
    "    n_latent_var_critic = 128,\n",
    "    network_depth_actor = 2,\n",
    "    network_depth_critic = 2,\n",
    "    has_continuous_action_space = True,\n",
    "    action_std_init = 0.5,\n",
    "    lr = 0.0003,\n",
    "    betas = (0.9, 0.999),\n",
    "    gamma = 0.99,\n",
    "    K_epochs = 10,\n",
    "    eps_clip = 0.25,\n",
    "    c1 = 0.5,\n",
    "    c2 = 0.01,\n",
    "    beta_clone = 0.95\n",
    ")\n",
    "\n",
    "ppg_KL.load_checkpoint(\"../dat/ppg_kl/checkpoint_120000.pth\")"
   ],
   "id": "e2f50830b8971de6",
   "outputs": [
    {
     "name": "stdout",
     "output_type": "stream",
     "text": [
      "Loaded checkpoint from ../dat/ppg_kl/checkpoint_120000.pth\n"
     ]
    }
   ],
   "execution_count": 60
  },
  {
   "metadata": {
    "ExecuteTime": {
     "end_time": "2025-02-25T12:36:59.112185Z",
     "start_time": "2025-02-25T12:34:12.818732Z"
    }
   },
   "cell_type": "code",
   "source": [
    "# Test agent\n",
    "number_games = 500\n",
    "weak_mode = True\n",
    "\n",
    "print(\"Weak Opponent\")\n",
    "winner_weak = test_agent(number_games, weak_mode, ppo)\n",
    "\n",
    "weak_mode = False\n",
    "print(\"\\nStrong Opponent\")\n",
    "winner_strong = test_agent(number_games, weak_mode, ppo)"
   ],
   "id": "23a84fec70f9f5b4",
   "outputs": [
    {
     "name": "stdout",
     "output_type": "stream",
     "text": [
      "Weak Opponent\n",
      "Winning rate:  0.304\n",
      "Draws rate:  0.39\n",
      "Losing rate:  0.306\n",
      "Avg. reward:  -4.0\n",
      "\n",
      "Strong Opponent\n",
      "Winning rate:  0.254\n",
      "Draws rate:  0.388\n",
      "Losing rate:  0.358\n",
      "Avg. reward:  -6.0\n"
     ]
    }
   ],
   "execution_count": 73
  },
  {
   "metadata": {
    "ExecuteTime": {
     "end_time": "2025-02-25T11:38:19.150950Z",
     "start_time": "2025-02-25T11:35:52.570661Z"
    }
   },
   "cell_type": "code",
   "source": [
    "# Test agent\n",
    "number_games = 500\n",
    "weak_mode = True\n",
    "\n",
    "print(\"Weak Opponent\")\n",
    "winner_weak = test_agent(number_games, weak_mode, ppg_KL)\n",
    "\n",
    "weak_mode = False\n",
    "print(\"\\nStrong Opponent\")\n",
    "winner_strong = test_agent(number_games, weak_mode, ppg_KL)"
   ],
   "id": "e511382eccc9ee9e",
   "outputs": [
    {
     "name": "stdout",
     "output_type": "stream",
     "text": [
      "Weak Opponent\n",
      "Winning rate:  0.338\n",
      "Draws rate:  0.386\n",
      "Losing rate:  0.276\n",
      "Avg. reward:  -3.0\n",
      "\n",
      "Strong Opponent\n",
      "Winning rate:  0.276\n",
      "Draws rate:  0.344\n",
      "Losing rate:  0.38\n",
      "Avg. reward:  -6.0\n"
     ]
    }
   ],
   "execution_count": 61
  },
  {
   "metadata": {
    "ExecuteTime": {
     "end_time": "2025-02-25T11:38:32.115176Z",
     "start_time": "2025-02-25T11:38:31.219328Z"
    }
   },
   "cell_type": "code",
   "source": [
    "# plot win rate\n",
    "num_episodes = len(winner_weak)\n",
    "\n",
    "num_wins_weak = np.sum(np.array(winner_weak) == 1)\n",
    "num_wins_strong = np.sum(np.array(winner_strong) == 1)\n",
    "\n",
    "ratio_wins_weak = round(num_wins_weak / num_episodes, 3)\n",
    "ratio_wins_strong = round(num_wins_strong / num_episodes, 3)\n",
    "\n",
    "print(f\"Win rate weak opponent: {ratio_wins_weak}, Win rate strong opponent: {ratio_wins_strong}\")\n",
    "\n",
    "info_array_weak = np.array(winner_weak)\n",
    "info_array_strong = np.array(winner_strong)\n",
    "\n",
    "games_played = np.arange(1, len(winner_weak) + 1)\n",
    "wins_weak = np.cumsum(info_array_weak == 1)\n",
    "wins_strong = np.cumsum(info_array_strong == 1)\n",
    "\n",
    "win_ratio_weak = wins_weak / games_played\n",
    "win_ratio_strong = wins_strong / games_played\n",
    "\n",
    "plt.rcParams.update(bundles.icml2022(column = \"full\", nrows = 1, ncols = 1, usetex = False))\n",
    "fig, ax = plt.subplots(figsize = (3, 2))\n",
    "plt.plot(games_played, win_ratio_weak, marker = ',', linestyle = '-', label = \"Weak Opponent\", linewidth = 0.9, color = \"dodgerblue\")\n",
    "plt.plot(games_played, win_ratio_strong, marker = ',', linestyle = '-', label = \"Strong Opponent\", linewidth = 0.9, color = \"orange\")\n",
    "plt.axhline(y = ratio_wins_weak, linestyle = '--', color = \"dodgerblue\", alpha = 0.5)\n",
    "plt.axhline(y = ratio_wins_strong, linestyle = '--', color = \"orange\", alpha = 0.5)\n",
    "plt.xlabel(\"Games Played\")\n",
    "plt.ylabel(\"Winning Proportion\")\n",
    "plt.title(\"Relative Proportion of Wins Over Time\")\n",
    "plt.legend()\n",
    "# plt.grid(True)\n",
    "plt.show()\n",
    "\n",
    "# save figure as png\n",
    "fig.savefig(\"../doc/fig/winningrate_final_model.png\", dpi = 1000, bbox_inches = \"tight\", pad_inches = 0.1, transparent = True)"
   ],
   "id": "78f23a1e0e5a738d",
   "outputs": [
    {
     "name": "stdout",
     "output_type": "stream",
     "text": [
      "Win rate weak opponent: 0.338, Win rate strong opponent: 0.276\n"
     ]
    },
    {
     "data": {
      "text/plain": [
       "<Figure size 300x200 with 1 Axes>"
      ],
      "image/png": "[encoded data removed]"
     },
     "metadata": {},
     "output_type": "display_data"
    }
   ],
   "execution_count": 62
  },
  {
   "metadata": {},
   "cell_type": "code",
   "outputs": [],
   "execution_count": null,
   "source": "",
   "id": "b92fd0161496a3a9"
  },
  {
   "metadata": {},
   "cell_type": "code",
   "outputs": [],
   "execution_count": null,
   "source": "",
   "id": "36a541fc313ab9fa"
  }
 ],
 "metadata": {
  "kernelspec": {
   "display_name": "Python 3",
   "language": "python",
   "name": "python3"
  },
  "language_info": {
   "codemirror_mode": {
    "name": "ipython",
    "version": 2
   },
   "file_extension": ".py",
   "mimetype": "text/x-python",
   "name": "python",
   "nbconvert_exporter": "python",
   "pygments_lexer": "ipython2",
   "version": "2.7.6"
  }
 },
 "nbformat": 4,
 "nbformat_minor": 5
}

{
 "cells": [
  {
   "cell_type": "code",
   "metadata": {
    "ExecuteTime": {
     "end_time": "2025-02-14T12:31:25.852152Z",
     "start_time": "2025-02-14T12:31:25.846028Z"
    }
   },
   "source": [
    "import numpy as np\n",
    "import hockey.hockey_env as h_env\n",
    "import gymnasium as gym\n",
    "from importlib import reload\n",
    "from hockey.hockey_env import Mode\n",
    "import time"
   ],
   "outputs": [],
   "execution_count": 5
  },
  {
   "cell_type": "code",
   "metadata": {
    "ExecuteTime": {
     "end_time": "2025-02-14T12:31:26.019784Z",
     "start_time": "2025-02-14T12:31:26.015270Z"
    }
   },
   "source": [
    "np.set_printoptions(suppress=True)"
   ],
   "outputs": [],
   "execution_count": 6
  },
  {
   "cell_type": "code",
   "metadata": {
    "ExecuteTime": {
     "end_time": "2025-02-14T12:31:26.184338Z",
     "start_time": "2025-02-14T12:31:26.181055Z"
    }
   },
   "source": [
    "# reload(h_env)"
   ],
   "outputs": [],
   "execution_count": 7
  },
  {
   "cell_type": "markdown",
   "metadata": {
    "ExecuteTime": {
     "end_time": "2018-12-20T21:03:35.086427Z",
     "start_time": "2018-12-20T21:03:35.082123Z"
    }
   },
   "source": [
    "# Normal Game Play"
   ]
  },
  {
   "cell_type": "code",
   "metadata": {
    "ExecuteTime": {
     "end_time": "2025-02-14T12:31:26.524785Z",
     "start_time": "2025-02-14T12:31:26.516335Z"
    }
   },
   "source": "env = h_env.HockeyEnv(mode = Mode.NORMAL)",
   "outputs": [],
   "execution_count": 8
  },
  {
   "cell_type": "markdown",
   "metadata": {},
   "source": [
    "have a look at the initialization condition: alternating who starts and are random in puck position"
   ]
  },
  {
   "cell_type": "code",
   "metadata": {
    "ExecuteTime": {
     "end_time": "2025-02-14T12:31:27.838598Z",
     "start_time": "2025-02-14T12:31:26.877776Z"
    }
   },
   "source": [
    "obs, info = env.reset()\n",
    "obs_agent2 = env.obs_agent_two()\n",
    "_ = env.render()"
   ],
   "outputs": [
    {
     "name": "stderr",
     "output_type": "stream",
     "text": [
      "2025-02-14 13:31:27.453 Python[7737:272070] WARNING: Secure coding is not enabled for restorable state! Enable secure coding by implementing NSApplicationDelegate.applicationSupportsSecureRestorableState: and returning YES.\n"
     ]
    }
   ],
   "execution_count": 9
  },
  {
   "cell_type": "markdown",
   "metadata": {},
   "source": [
    "one episode with random agents"
   ]
  },
  {
   "cell_type": "code",
   "metadata": {
    "ExecuteTime": {
     "end_time": "2025-02-14T12:31:31.253654Z",
     "start_time": "2025-02-14T12:31:27.927557Z"
    }
   },
   "source": [
    "obs, info = env.reset()\n",
    "obs_agent2 = env.obs_agent_two()\n",
    "\n",
    "for _ in range(600):\n",
    "    env.render(mode=\"human\")\n",
    "    a1 = np.random.uniform(-1,1,4)\n",
    "    a2 = np.random.uniform(-1,1,4)    \n",
    "    obs, r, d, t, info = env.step(np.hstack([a1,a2]))    \n",
    "    obs_agent2 = env.obs_agent_two()\n",
    "    if d or t: break"
   ],
   "outputs": [],
   "execution_count": 10
  },
  {
   "cell_type": "markdown",
   "metadata": {},
   "source": [
    "Without rendering, it runs much faster"
   ]
  },
  {
   "cell_type": "markdown",
   "metadata": {
    "ExecuteTime": {
     "end_time": "2019-01-11T07:57:48.631793Z",
     "start_time": "2019-01-11T07:57:48.627528Z"
    }
   },
   "source": [
    "\"info\" dict contains useful proxy rewards and winning information"
   ]
  },
  {
   "cell_type": "code",
   "metadata": {
    "ExecuteTime": {
     "end_time": "2025-02-14T12:31:33.742674Z",
     "start_time": "2025-02-14T12:31:33.736860Z"
    }
   },
   "source": [
    "info, env.get_info_agent_two()"
   ],
   "outputs": [
    {
     "data": {
      "text/plain": [
       "({'winner': 1,\n",
       "  'reward_closeness_to_puck': 0.0,\n",
       "  'reward_touch_puck': 0.0,\n",
       "  'reward_puck_direction': 0.0004882808303833008},\n",
       " {'winner': -1,\n",
       "  'reward_closeness_to_puck': -0.12455238078119568,\n",
       "  'reward_touch_puck': 0.0,\n",
       "  'reward_puck_direction': -0.0004882808303833008})"
      ]
     },
     "execution_count": 11,
     "metadata": {},
     "output_type": "execute_result"
    }
   ],
   "execution_count": 11
  },
  {
   "cell_type": "markdown",
   "metadata": {
    "ExecuteTime": {
     "end_time": "2019-01-11T07:59:24.867441Z",
     "start_time": "2019-01-11T07:59:24.862324Z"
    }
   },
   "source": [
    "Winner == 0: draw\n",
    "\n",
    "Winner == 1: you (left player)\n",
    "\n",
    "Winner == -1: opponent wins (right player)"
   ]
  },
  {
   "cell_type": "code",
   "metadata": {
    "ExecuteTime": {
     "end_time": "2025-02-14T12:31:37.722016Z",
     "start_time": "2025-02-14T12:31:37.606291Z"
    }
   },
   "source": [
    "env.close()"
   ],
   "outputs": [],
   "execution_count": 12
  },
  {
   "cell_type": "markdown",
   "metadata": {
    "ExecuteTime": {
     "end_time": "2018-12-20T20:37:41.013424Z",
     "start_time": "2018-12-20T20:37:41.009298Z"
    }
   },
   "source": [
    "# Train Shooting"
   ]
  },
  {
   "cell_type": "code",
   "metadata": {
    "ExecuteTime": {
     "end_time": "2025-02-13T12:37:59.699039Z",
     "start_time": "2025-02-13T12:37:59.694008Z"
    }
   },
   "source": [
    "env = h_env.HockeyEnv(mode=h_env.Mode.TRAIN_SHOOTING)"
   ],
   "outputs": [],
   "execution_count": 6
  },
  {
   "cell_type": "code",
   "metadata": {
    "ExecuteTime": {
     "end_time": "2025-02-13T12:38:01.778356Z",
     "start_time": "2025-02-13T12:38:00.414904Z"
    }
   },
   "source": [
    "o, info = env.reset()\n",
    "_ = env.render()\n",
    "\n",
    "for _ in range(50):\n",
    "    env.render()\n",
    "    a1 = [1,0,0,1] # np.random.uniform(-1,1,4)\n",
    "    a2 = [0,0.,0,0] \n",
    "    obs, r, d, t , info = env.step(np.hstack([a1,a2]))\n",
    "    obs_agent2 = env.obs_agent_two()\n",
    "    if d or t: break"
   ],
   "outputs": [],
   "execution_count": 7
  },
  {
   "cell_type": "code",
   "execution_count": null,
   "metadata": {
    "ExecuteTime": {
     "end_time": "2023-08-06T09:45:40.837294Z",
     "start_time": "2023-08-06T09:45:40.798692Z"
    }
   },
   "outputs": [],
   "source": [
    "env.close()"
   ]
  },
  {
   "cell_type": "markdown",
   "metadata": {
    "ExecuteTime": {
     "end_time": "2018-12-20T20:37:41.013424Z",
     "start_time": "2018-12-20T20:37:41.009298Z"
    }
   },
   "source": [
    "# Train DEFENDING"
   ]
  },
  {
   "cell_type": "code",
   "execution_count": null,
   "metadata": {
    "ExecuteTime": {
     "end_time": "2020-12-21T21:44:32.862079Z",
     "start_time": "2020-12-21T21:44:32.855492Z"
    }
   },
   "outputs": [],
   "source": [
    "env = h_env.HockeyEnv(mode=h_env.Mode.TRAIN_DEFENSE)"
   ]
  },
  {
   "cell_type": "code",
   "execution_count": null,
   "metadata": {
    "ExecuteTime": {
     "end_time": "2020-12-21T21:44:33.916251Z",
     "start_time": "2020-12-21T21:44:33.569490Z"
    }
   },
   "outputs": [],
   "source": [
    "o, info = env.reset()\n",
    "_ = env.render()\n",
    "\n",
    "for _ in range(60):\n",
    "    env.render()\n",
    "    a1 = [0.1,0,0,1] # np.random.uniform(-1,1,3)\n",
    "    a2 = [0,0.,0,0] \n",
    "    obs, r, d, t, info = env.step(np.hstack([a1,a2]))\n",
    "    print(r)\n",
    "    obs_agent2 = env.obs_agent_two()\n",
    "    if d or t: break"
   ]
  },
  {
   "cell_type": "code",
   "execution_count": null,
   "metadata": {
    "ExecuteTime": {
     "end_time": "2020-12-21T21:44:41.470595Z",
     "start_time": "2020-12-21T21:44:41.456491Z"
    }
   },
   "outputs": [],
   "source": [
    "env.close()"
   ]
  },
  {
   "cell_type": "markdown",
   "metadata": {
    "ExecuteTime": {
     "end_time": "2018-12-20T20:37:41.013424Z",
     "start_time": "2018-12-20T20:37:41.009298Z"
    }
   },
   "source": [
    "# Using discrete actions"
   ]
  },
  {
   "cell_type": "code",
   "execution_count": null,
   "metadata": {
    "ExecuteTime": {
     "end_time": "2020-12-21T21:44:52.876842Z",
     "start_time": "2020-12-21T21:44:52.872864Z"
    }
   },
   "outputs": [],
   "source": [
    "import random"
   ]
  },
  {
   "cell_type": "code",
   "execution_count": null,
   "metadata": {
    "ExecuteTime": {
     "end_time": "2020-12-21T21:44:54.433468Z",
     "start_time": "2020-12-21T21:44:54.428476Z"
    }
   },
   "outputs": [],
   "source": [
    "env = h_env.HockeyEnv(mode=h_env.Mode.TRAIN_SHOOTING)"
   ]
  },
  {
   "cell_type": "code",
   "execution_count": null,
   "metadata": {
    "ExecuteTime": {
     "end_time": "2020-12-21T21:45:21.317261Z",
     "start_time": "2020-12-21T21:45:19.980472Z"
    }
   },
   "outputs": [],
   "source": [
    "env.reset()\n",
    "for _ in range(251):\n",
    "    env.render()\n",
    "    a1_discrete = random.randint(0,7)\n",
    "    a1 = env.discrete_to_continous_action(a1_discrete)\n",
    "    a2 = [0,0.,0,0 ] \n",
    "    obs, r, d, t, info = env.step(np.hstack([a1,a2]))    \n",
    "    obs_agent2 = env.obs_agent_two()\n",
    "    if d or t: break"
   ]
  },
  {
   "cell_type": "code",
   "execution_count": null,
   "metadata": {
    "ExecuteTime": {
     "end_time": "2020-12-21T21:45:24.873214Z",
     "start_time": "2020-12-21T21:45:24.863047Z"
    }
   },
   "outputs": [],
   "source": [
    "env.close()"
   ]
  },
  {
   "cell_type": "markdown",
   "metadata": {
    "ExecuteTime": {
     "end_time": "2018-12-20T20:37:41.013424Z",
     "start_time": "2018-12-20T20:37:41.009298Z"
    }
   },
   "source": [
    "# Hand-crafted Opponent"
   ]
  },
  {
   "cell_type": "code",
   "metadata": {
    "ExecuteTime": {
     "end_time": "2025-02-13T12:38:40.357544Z",
     "start_time": "2025-02-13T12:38:40.352878Z"
    }
   },
   "source": [
    "env = h_env.HockeyEnv()"
   ],
   "outputs": [],
   "execution_count": 4
  },
  {
   "cell_type": "code",
   "metadata": {
    "ExecuteTime": {
     "end_time": "2025-02-13T12:38:41.795452Z",
     "start_time": "2025-02-13T12:38:40.841755Z"
    }
   },
   "source": [
    "o, info = env.reset()\n",
    "_ = env.render()\n",
    "player1 = h_env.BasicOpponent(weak=False)\n",
    "player2 = h_env.BasicOpponent()"
   ],
   "outputs": [],
   "execution_count": 5
  },
  {
   "cell_type": "code",
   "metadata": {
    "ExecuteTime": {
     "end_time": "2025-02-13T12:38:58.139803Z",
     "start_time": "2025-02-13T12:38:52.894806Z"
    }
   },
   "source": [
    "obs_buffer = []\n",
    "reward_buffer=[]\n",
    "obs, info = env.reset()\n",
    "obs_agent2 = env.obs_agent_two()\n",
    "for _ in range(251):\n",
    "    env.render()\n",
    "    a1 = player1.act(obs)\n",
    "    a2 = player2.act(obs_agent2)\n",
    "    obs, r, d, t, info = env.step(np.hstack([a1,a2]))    \n",
    "    obs_buffer.append(obs)\n",
    "    reward_buffer.append(r)\n",
    "    obs_agent2 = env.obs_agent_two()\n",
    "    if d or t: break\n",
    "obs_buffer = np.asarray(obs_buffer)\n",
    "reward_buffer = np.asarray(reward_buffer)"
   ],
   "outputs": [
    {
     "name": "stderr",
     "output_type": "stream",
     "text": [
      "2025-02-13 13:38:53.044 Python[6595:202183] WARNING: Secure coding is not enabled for restorable state! Enable secure coding by implementing NSApplicationDelegate.applicationSupportsSecureRestorableState: and returning YES.\n"
     ]
    }
   ],
   "execution_count": 6
  },
  {
   "cell_type": "code",
   "metadata": {
    "ExecuteTime": {
     "end_time": "2025-02-13T12:39:00.330390Z",
     "start_time": "2025-02-13T12:39:00.322271Z"
    }
   },
   "source": [
    "np.mean(obs_buffer,axis=0)"
   ],
   "outputs": [
    {
     "data": {
      "text/plain": [
       "array([-3.11442225,  0.39157263, -0.02303852,  0.12348986, -0.1285582 ,\n",
       "       -0.03113055,  2.96722065,  0.47283915, -0.00234334,  0.07711003,\n",
       "       -0.00190685,  0.03677379, -0.14970743,  0.72836726,  0.09304424,\n",
       "       -0.18709327,  2.30677291,  0.83665339])"
      ]
     },
     "execution_count": 7,
     "metadata": {},
     "output_type": "execute_result"
    }
   ],
   "execution_count": 7
  },
  {
   "cell_type": "code",
   "metadata": {
    "ExecuteTime": {
     "end_time": "2025-02-13T12:39:01.076358Z",
     "start_time": "2025-02-13T12:39:01.071083Z"
    }
   },
   "source": [
    "np.std(obs_buffer,axis=0)"
   ],
   "outputs": [
    {
     "data": {
      "text/plain": [
       "array([ 0.54700413,  0.82705101,  0.66518614,  3.55408445,  4.70313974,\n",
       "        3.63760999,  0.71710348,  0.43670494,  0.12685052,  3.73857778,\n",
       "        1.48093269,  0.75248819,  2.09019592,  1.63455841, 20.42960431,\n",
       "        8.17897199,  4.60528818,  2.95672829])"
      ]
     },
     "execution_count": 8,
     "metadata": {},
     "output_type": "execute_result"
    }
   ],
   "execution_count": 8
  },
  {
   "cell_type": "markdown",
   "metadata": {},
   "source": [
    "If you want to use a fixed observation scaling, this might be a reasonable choice"
   ]
  },
  {
   "cell_type": "code",
   "metadata": {
    "ExecuteTime": {
     "end_time": "2025-02-13T12:39:02.183131Z",
     "start_time": "2025-02-13T12:39:02.179674Z"
    }
   },
   "source": [
    "scaling = [ 1.0,  1.0 , 0.5, 4.0, 4.0, 4.0,  \n",
    "            1.0,  1.0,  0.5, 4.0, 4.0, 4.0,  \n",
    "            2.0, 2.0, 10.0, 10.0, 4,0 ,4,0]"
   ],
   "outputs": [],
   "execution_count": 9
  },
  {
   "cell_type": "code",
   "metadata": {
    "ExecuteTime": {
     "end_time": "2025-02-13T12:39:03.305802Z",
     "start_time": "2025-02-13T12:39:02.735607Z"
    }
   },
   "source": [
    "import pylab as plt"
   ],
   "outputs": [],
   "execution_count": 10
  },
  {
   "cell_type": "code",
   "metadata": {
    "ExecuteTime": {
     "end_time": "2025-02-13T12:39:05.296448Z",
     "start_time": "2025-02-13T12:39:04.405087Z"
    }
   },
   "source": [
    "plt.plot(obs_buffer[:,2])\n",
    "plt.plot(obs_buffer[:,8])"
   ],
   "outputs": [
    {
     "data": {
      "text/plain": [
       "[<matplotlib.lines.Line2D at 0x12bdc3fd0>]"
      ]
     },
     "execution_count": 11,
     "metadata": {},
     "output_type": "execute_result"
    },
    {
     "data": {
      "text/plain": [
       "<Figure size 640x480 with 1 Axes>"
      ],
      "image/png": "[encoded data removed]"
     },
     "metadata": {},
     "output_type": "display_data"
    }
   ],
   "execution_count": 11
  },
  {
   "cell_type": "code",
   "metadata": {
    "ExecuteTime": {
     "end_time": "2025-02-13T12:39:05.567594Z",
     "start_time": "2025-02-13T12:39:05.399286Z"
    }
   },
   "source": [
    "plt.plot(obs_buffer[:,12])"
   ],
   "outputs": [
    {
     "data": {
      "text/plain": [
       "[<matplotlib.lines.Line2D at 0x12bfce530>]"
      ]
     },
     "execution_count": 12,
     "metadata": {},
     "output_type": "execute_result"
    },
    {
     "data": {
      "text/plain": [
       "<Figure size 640x480 with 1 Axes>"
      ],
      "image/png": "[encoded data removed]"
     },
     "metadata": {},
     "output_type": "display_data"
    }
   ],
   "execution_count": 12
  },
  {
   "cell_type": "code",
   "metadata": {
    "ExecuteTime": {
     "end_time": "2025-02-13T12:39:06.607917Z",
     "start_time": "2025-02-13T12:39:06.458523Z"
    }
   },
   "source": [
    "plt.plot(reward_buffer[:])"
   ],
   "outputs": [
    {
     "data": {
      "text/plain": [
       "[<matplotlib.lines.Line2D at 0x12c043970>]"
      ]
     },
     "execution_count": 13,
     "metadata": {},
     "output_type": "execute_result"
    },
    {
     "data": {
      "text/plain": [
       "<Figure size 640x480 with 1 Axes>"
      ],
      "image/png": "[encoded data removed]"
     },
     "metadata": {},
     "output_type": "display_data"
    }
   ],
   "execution_count": 13
  },
  {
   "cell_type": "code",
   "metadata": {
    "ExecuteTime": {
     "end_time": "2025-02-13T12:39:07.425910Z",
     "start_time": "2025-02-13T12:39:07.420898Z"
    }
   },
   "source": [
    "np.sum(reward_buffer)"
   ],
   "outputs": [
    {
     "data": {
      "text/plain": [
       "-5.229749008897242"
      ]
     },
     "execution_count": 14,
     "metadata": {},
     "output_type": "execute_result"
    }
   ],
   "execution_count": 14
  },
  {
   "cell_type": "code",
   "metadata": {
    "ExecuteTime": {
     "end_time": "2025-02-13T12:39:08.509296Z",
     "start_time": "2025-02-13T12:39:08.504246Z"
    }
   },
   "source": [
    "info2 = env.get_info_agent_two()\n",
    "info, info2, env.get_reward(info), env.get_reward_agent_two(info2)"
   ],
   "outputs": [
    {
     "data": {
      "text/plain": [
       "({'winner': 0,\n",
       "  'reward_closeness_to_puck': 0.0,\n",
       "  'reward_touch_puck': 0.0,\n",
       "  'reward_puck_direction': 0.000459256820678711},\n",
       " {'winner': 0,\n",
       "  'reward_closeness_to_puck': 0.0,\n",
       "  'reward_touch_puck': 0.0,\n",
       "  'reward_puck_direction': -0.000459256820678711},\n",
       " 0.0,\n",
       " 0.0)"
      ]
     },
     "execution_count": 15,
     "metadata": {},
     "output_type": "execute_result"
    }
   ],
   "execution_count": 15
  },
  {
   "cell_type": "code",
   "metadata": {
    "ExecuteTime": {
     "end_time": "2025-02-13T12:39:09.604176Z",
     "start_time": "2025-02-13T12:39:09.492851Z"
    }
   },
   "source": [
    "env.close()"
   ],
   "outputs": [],
   "execution_count": 16
  },
  {
   "cell_type": "markdown",
   "metadata": {},
   "source": [
    "# Human Opponent"
   ]
  },
  {
   "cell_type": "code",
   "execution_count": null,
   "metadata": {
    "ExecuteTime": {
     "end_time": "2020-12-21T21:46:11.226543Z",
     "start_time": "2020-12-21T21:46:11.220285Z"
    }
   },
   "outputs": [],
   "source": [
    "env = h_env.HockeyEnv()"
   ]
  },
  {
   "cell_type": "code",
   "execution_count": null,
   "metadata": {
    "ExecuteTime": {
     "end_time": "2020-12-21T21:40:55.480803Z",
     "start_time": "2020-12-21T21:40:55.424242Z"
    }
   },
   "outputs": [],
   "source": [
    "player1 = h_env.HumanOpponent(env=env, player=1)\n",
    "player2 = h_env.BasicOpponent()\n"
   ]
  },
  {
   "cell_type": "code",
   "execution_count": null,
   "metadata": {
    "ExecuteTime": {
     "end_time": "2020-12-21T21:41:58.586380Z",
     "start_time": "2020-12-21T21:41:58.580405Z"
    }
   },
   "outputs": [],
   "source": [
    "player1 = h_env.BasicOpponent()\n",
    "player2 = h_env.HumanOpponent(env=env, player=2)\n"
   ]
  },
  {
   "cell_type": "code",
   "execution_count": null,
   "metadata": {
    "ExecuteTime": {
     "end_time": "2020-12-21T21:47:04.759309Z",
     "start_time": "2020-12-21T21:46:32.086840Z"
    }
   },
   "outputs": [],
   "source": [
    "obs, info = env.reset()\n",
    "\n",
    "env.render()\n",
    "time.sleep(1)\n",
    "obs_agent2 = env.obs_agent_two()\n",
    "for _ in range(100):\n",
    "    time.sleep(0.2)\n",
    "    env.render()\n",
    "    a1 = player1.act(obs) \n",
    "    a2 = player2.act(obs_agent2)\n",
    "    obs, r, d, _, info = env.step(np.hstack([a1,a2]))    \n",
    "    obs_agent2 = env.obs_agent_two()\n",
    "    if d: break"
   ]
  },
  {
   "cell_type": "code",
   "execution_count": null,
   "metadata": {
    "ExecuteTime": {
     "end_time": "2020-12-21T21:47:08.152651Z",
     "start_time": "2020-12-21T21:47:08.139597Z"
    }
   },
   "outputs": [],
   "source": [
    "env.close()"
   ]
  },
  {
   "cell_type": "code",
   "execution_count": null,
   "metadata": {},
   "outputs": [],
   "source": []
  },
  {
   "cell_type": "markdown",
   "metadata": {
    "ExecuteTime": {
     "end_time": "2018-12-20T20:37:41.013424Z",
     "start_time": "2018-12-20T20:37:41.009298Z"
    }
   },
   "source": [
    "# Check side consistency"
   ]
  },
  {
   "cell_type": "code",
   "execution_count": null,
   "metadata": {
    "ExecuteTime": {
     "end_time": "2023-08-06T09:55:05.915380Z",
     "start_time": "2023-08-06T09:55:05.907736Z"
    }
   },
   "outputs": [],
   "source": [
    "env = h_env.HockeyEnv()"
   ]
  },
  {
   "cell_type": "code",
   "execution_count": null,
   "metadata": {
    "ExecuteTime": {
     "end_time": "2023-08-06T10:25:13.354179Z",
     "start_time": "2023-08-06T10:25:13.294925Z"
    }
   },
   "outputs": [],
   "source": [
    "o, info = env.reset()\n",
    "_ = env.render()\n",
    "player1 = h_env.BasicOpponent(weak=False)\n",
    "player2 = h_env.BasicOpponent(weak=False)"
   ]
  },
  {
   "cell_type": "code",
   "execution_count": null,
   "metadata": {
    "ExecuteTime": {
     "end_time": "2023-08-06T10:34:30.725239Z",
     "start_time": "2023-08-06T10:33:37.389331Z"
    }
   },
   "outputs": [],
   "source": [
    "obs_buffer = []\n",
    "reward_buffer=[]\n",
    "obs2_buffer = []\n",
    "winner_buffer = []\n",
    "reward2_buffer=[]\n",
    "for game in range(1000):\n",
    "    obs, info = env.reset()\n",
    "    obs_agent2 = env.obs_agent_two()\n",
    "    for _ in range(500):\n",
    "        # env.render()\n",
    "        a1 = player1.act(obs)\n",
    "        a2 = player2.act(obs_agent2)\n",
    "#        a1 = np.random.uniform(-1,1,4)\n",
    "#        a2 = np.random.uniform(-1,1,4)    \n",
    "        obs, r, d, t, info = env.step(np.hstack([a1,a2]))\n",
    "        info2 = env.get_info_agent_two()\n",
    "        r2 = env.get_reward_agent_two(info2)\n",
    "        obs_buffer.append(obs)\n",
    "        obs_agent2 = env.obs_agent_two()\n",
    "        obs2_buffer.append(obs_agent2)\n",
    "        reward_buffer.append(r)\n",
    "        reward2_buffer.append(r2)\n",
    "        if d or t:\n",
    "            winner_buffer.append(info[\"winner\"])\n",
    "            break\n",
    "obs_buffer = np.asarray(obs_buffer)\n",
    "reward_buffer = np.asarray(reward_buffer)\n",
    "obs2_buffer = np.asarray(obs2_buffer)\n",
    "reward2_buffer = np.asarray(reward2_buffer)"
   ]
  },
  {
   "cell_type": "code",
   "execution_count": null,
   "metadata": {
    "ExecuteTime": {
     "end_time": "2023-08-06T10:34:30.732010Z",
     "start_time": "2023-08-06T10:34:30.728070Z"
    }
   },
   "outputs": [],
   "source": [
    "obs_buffer.shape"
   ]
  },
  {
   "cell_type": "code",
   "execution_count": null,
   "metadata": {
    "ExecuteTime": {
     "end_time": "2023-08-06T10:34:30.746663Z",
     "start_time": "2023-08-06T10:34:30.733445Z"
    }
   },
   "outputs": [],
   "source": [
    "np.mean(obs_buffer,axis=0)"
   ]
  },
  {
   "cell_type": "code",
   "execution_count": null,
   "metadata": {
    "ExecuteTime": {
     "end_time": "2023-08-06T10:34:30.809201Z",
     "start_time": "2023-08-06T10:34:30.749382Z"
    }
   },
   "outputs": [],
   "source": [
    "(np.std(obs_buffer,axis=0) - np.std(obs2_buffer,axis=0)) / np.std(obs_buffer,axis=0)"
   ]
  },
  {
   "cell_type": "code",
   "execution_count": null,
   "metadata": {
    "ExecuteTime": {
     "end_time": "2023-08-06T10:34:30.821211Z",
     "start_time": "2023-08-06T10:34:30.810592Z"
    }
   },
   "outputs": [],
   "source": [
    "winner_buffer"
   ]
  },
  {
   "cell_type": "code",
   "execution_count": null,
   "metadata": {
    "ExecuteTime": {
     "end_time": "2023-08-06T10:34:30.828943Z",
     "start_time": "2023-08-06T10:34:30.823232Z"
    }
   },
   "outputs": [],
   "source": [
    "np.mean(winner_buffer,axis=0)"
   ]
  },
  {
   "cell_type": "code",
   "execution_count": null,
   "metadata": {
    "ExecuteTime": {
     "end_time": "2023-08-06T10:34:30.834702Z",
     "start_time": "2023-08-06T10:34:30.830383Z"
    }
   },
   "outputs": [],
   "source": [
    "np.std(winner_buffer,axis=0)"
   ]
  },
  {
   "cell_type": "code",
   "execution_count": null,
   "metadata": {
    "ExecuteTime": {
     "end_time": "2023-08-06T10:34:44.699821Z",
     "start_time": "2023-08-06T10:34:44.692772Z"
    }
   },
   "outputs": [],
   "source": [
    "np.sum(reward_buffer), np.sum(reward2_buffer)"
   ]
  },
  {
   "cell_type": "code",
   "execution_count": null,
   "metadata": {
    "ExecuteTime": {
     "end_time": "2023-08-06T10:35:19.971723Z",
     "start_time": "2023-08-06T10:35:19.929115Z"
    }
   },
   "outputs": [],
   "source": [
    "env.close()"
   ]
  },
  {
   "cell_type": "code",
   "execution_count": null,
   "metadata": {},
   "outputs": [],
   "source": []
  },
  {
   "metadata": {},
   "cell_type": "code",
   "outputs": [],
   "execution_count": null,
   "source": ""
  }
 ],
 "metadata": {
  "kernelspec": {
   "display_name": "Python 3 (ipykernel)",
   "language": "python",
   "name": "python3"
  },
  "language_info": {
   "codemirror_mode": {
    "name": "ipython",
    "version": 3
   },
   "file_extension": ".py",
   "mimetype": "text/x-python",
   "name": "python",
   "nbconvert_exporter": "python",
   "pygments_lexer": "ipython3",
   "version": "3.12.3"
  },
  "toc": {
   "base_numbering": 1,
   "nav_menu": {},
   "number_sections": true,
   "sideBar": true,
   "skip_h1_title": false,
   "title_cell": "Table of Contents",
   "title_sidebar": "Contents",
   "toc_cell": false,
   "toc_position": {},
   "toc_section_display": true,
   "toc_window_display": false
  }
 },
 "nbformat": 4,
 "nbformat_minor": 4
}
